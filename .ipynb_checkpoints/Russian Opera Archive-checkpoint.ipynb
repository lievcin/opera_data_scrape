{
 "cells": [
  {
   "cell_type": "code",
   "execution_count": 96,
   "metadata": {},
   "outputs": [],
   "source": [
    "#BOLSHOI\n",
    "from bs4 import BeautifulSoup\n",
    "import requests\n",
    "# import csv\n",
    "\n",
    "name = \"Bolshoi.csv\"\n",
    "csv = open(name, \"w\") \n",
    "columnTitleRow = \"opera_title, opera_description, date, role, artist\\n\"\n",
    "csv.write(columnTitleRow)\n",
    "\n",
    "for perf in list(range(1, 2)): #up to 2000\n",
    "    url = \"https://www.bolshoi.ru/en/performances/\" + str(perf) + \"/roles/#all\"\n",
    "    r  = requests.get(url)\n",
    "    soup = BeautifulSoup(r.text, \"html5lib\")\n",
    "    try: \n",
    "        opera_title = soup.select('.navigation_title')[0].text\n",
    "    except IndexError:\n",
    "        opera_title = ''\n",
    "    try:     \n",
    "        opera_description = soup.select(\".perf_desc_title\")[0].text\n",
    "    except IndexError:\n",
    "        opera_description = ''\n",
    "        \n",
    "    for perf_date in soup.select(\".performance_main_content__dates_all .cast_selector\"):\n",
    "        date = perf_date.get('href')[1:]\n",
    "        cast = \".cast_\" + str(date)\n",
    "        for c in soup.select(cast + ' tr'):\n",
    "            role = c.select('.performance_main_content__cast_role_name')[0].text\n",
    "            artist = c.select('.performance_main_content__cast_role_person')[0].text.splitlines()\n",
    "            artist = [ x.strip() for x in artist ]\n",
    "            artist[:] = [value for value in artist if len(value)!=0]\n",
    "            artist = \",\".join(artist)\n",
    "#             print(opera_title + '-' + opera_description + '-' + date + '-' + role + '-' + artist )\n",
    "            row = opera_title + \",\" + opera_description + \",\" + date + \",\" + role + \",\" + artist + \"\\n\"\n",
    "            csv.write(row)\n",
    "            \n"
   ]
  },
  {
   "cell_type": "code",
   "execution_count": 86,
   "metadata": {},
   "outputs": [
    {
     "data": {
      "text/plain": [
       "'Svetlana Pavlova,Yulia Skvortsova'"
      ]
     },
     "execution_count": 86,
     "metadata": {},
     "output_type": "execute_result"
    }
   ],
   "source": [
    "# cast = \".cast_\" + str('20130124190000')\n",
    "# soup.select(cast + ' tr')[9].select('.performance_main_content__cast_role_name')[0].text\n",
    "# a = soup.select(cast + ' tr')[9].select('.performance_main_content__cast_role_person')[0].text.splitlines()\n",
    "# a = [ x.strip() for x in a ]\n",
    "# a[:] = [value for value in a if len(value)!=0]\n",
    "# \",\".join(a)\n",
    "# #.strip().rstrip('\\r\\n')\n",
    "\n",
    "# # for row in soup.select(cast + ' tr'):\n",
    "# #     print(row)\n",
    "    \n",
    "    "
   ]
  },
  {
   "cell_type": "code",
   "execution_count": 36,
   "metadata": {},
   "outputs": [
    {
     "name": "stdout",
     "output_type": "stream",
     "text": [
      "[1]\n"
     ]
    }
   ],
   "source": []
  },
  {
   "cell_type": "code",
   "execution_count": null,
   "metadata": {},
   "outputs": [],
   "source": []
  }
 ],
 "metadata": {
  "kernelspec": {
   "display_name": "Python 3",
   "language": "python",
   "name": "python3"
  },
  "language_info": {
   "codemirror_mode": {
    "name": "ipython",
    "version": 3
   },
   "file_extension": ".py",
   "mimetype": "text/x-python",
   "name": "python",
   "nbconvert_exporter": "python",
   "pygments_lexer": "ipython3",
   "version": "3.6.2"
  }
 },
 "nbformat": 4,
 "nbformat_minor": 2
}
