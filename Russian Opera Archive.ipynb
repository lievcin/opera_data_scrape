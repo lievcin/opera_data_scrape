{
 "cells": [
  {
   "cell_type": "code",
   "execution_count": 5,
   "metadata": {},
   "outputs": [],
   "source": [
    "#BOLSHOI\n",
    "\n",
    "from bs4 import BeautifulSoup\n",
    "import requests\n",
    "\n",
    "name = \"Russia/Bolshoi.csv\"\n",
    "csv = open(name, \"w\") \n",
    "columnTitleRow = \"opera_title\\t opera_description\\t date\\t role\\t artist\\t url\\n\"\n",
    "csv.write(columnTitleRow)\n",
    "\n",
    "for perf in list(range(1, 2)): #up to 2000\n",
    "    url = \"https://www.bolshoi.ru/en/performances/\" + str(perf) + \"/roles/#all\"\n",
    "    r  = requests.get(url)\n",
    "    soup = BeautifulSoup(r.text, \"html5lib\")\n",
    "    try: \n",
    "        opera_title = soup.select('.navigation_title')[0].text\n",
    "    except IndexError:\n",
    "        opera_title = ''\n",
    "    try:     \n",
    "        opera_description = soup.select(\".perf_desc_title\")[0].text\n",
    "    except IndexError:\n",
    "        opera_description = ''\n",
    "        \n",
    "    for perf_date in soup.select(\".performance_main_content__dates_all .cast_selector\"):\n",
    "        date = perf_date.get('href')[1:]\n",
    "        cast = \".cast_\" + str(date)\n",
    "        for c in soup.select(cast + ' tr'):\n",
    "            role = c.select('.performance_main_content__cast_role_name')[0].text\n",
    "            artist = c.select('.performance_main_content__cast_role_person')[0].text.splitlines()\n",
    "            artist = [ x.strip() for x in artist ]\n",
    "            artist[:] = [value for value in artist if len(value)!=0]\n",
    "            artist = \",\".join(artist)\n",
    "#             print(opera_title + '-' + opera_description + '-' + date + '-' + role + '-' + artist )\n",
    "            row = opera_title + \"\\t\" + opera_description + \"\\t\" + date + \"\\t\" + role + \"\\t\" + artist + \"\\t\" + url + \"\\n\"\n",
    "            csv.write(row)\n",
    "            \n"
   ]
  },
  {
   "cell_type": "code",
   "execution_count": 4,
   "metadata": {},
   "outputs": [],
   "source": [
    "#MARIINSKY\n",
    "from bs4 import BeautifulSoup\n",
    "import requests\n",
    "\n",
    "# name = \"Russia/Mariinksy.csv\"\n",
    "# csv = open(name, \"w\") \n",
    "# columnTitleRow = \"opera_title\\t opera_description\\t date\\t role\\t artist\\t url\\n\"\n",
    "# csv.write(columnTitleRow)\n",
    "base_url = \"https://www.mariinsky.ru\"\n",
    "\n",
    "for season in list(range(226, 235)): #up to 2000\n",
    "    url = base_url + \"/en/playbill/archive?season=\" + str(season)\n",
    "    r  = requests.get(url)\n",
    "    season_main = BeautifulSoup(r.text, \"html5lib\")\n",
    "    for month in season_main.select(\".playbill_archive_months a\"):\n",
    "        month_name = month.text\n",
    "        month_url = base_url + month.get('href')\n",
    "        r_month  = requests.get(month_url)\n",
    "        month_main = BeautifulSoup(r_month.text, \"html5lib\")\n",
    "        for day in month_main.select('div#afisha .row'):\n",
    "            date = day.select(\"time\")[0]['datetime']\n",
    "            opera_title = day.select('.spec_name')[0].text\n",
    "            opera_description = day.select('.descr')[0].text\n",
    "            opera_url = base_url + day.select('.spec_name a')[0].get('href')\n",
    "            r_opera  = requests.get(opera_url)\n",
    "            opera_main = BeautifulSoup(r_opera.text, \"html5lib\")\n",
    "            cast_table = month_main.select('.sostav.inf_block')[0].find_all('div')[1:][0].contents\n",
    "            cast_table = [row for row in cast_table if row.name != 'br']\n",
    "            artists = []\n",
    "            roles = []\n",
    "            for item in cast_table:\n",
    "                if cast_table.index(item) % 2 != 0:\n",
    "                    roles.append(item)\n",
    "                else:\n",
    "                    artists.append(item)\n",
    "        \n",
    "            roles = [ x.text for x in roles ]        \n",
    "            artists = [ x.replace(' – ', '').strip() for x in artists ]\n",
    "\n",
    "            \n",
    "    "
   ]
  },
  {
   "cell_type": "code",
   "execution_count": 84,
   "metadata": {},
   "outputs": [],
   "source": [
    "base_url = \"https://www.mariinsky.ru\"\n",
    "# url = base_url + \"/en/playbill/archive?season=226\"\n",
    "# r  = requests.get(url)\n",
    "# season_main = BeautifulSoup(r.text, \"html5lib\")\n",
    "\n",
    "# for month in season_main.select(\".playbill_archive_months a\"):\n",
    "#     month_name = month.text\n",
    "#     print(month_name)\n",
    "#     print(month.get('href'))\n",
    "\n",
    "\n",
    "url = base_url + \"/en/playbill/playbill/2009/3/1/1_1130\"\n",
    "r  = requests.get(url)\n",
    "month_main = BeautifulSoup(r.text, \"html5lib\")\n",
    "# for day in month_main.select('div#afisha .row'):\n",
    "#     date = day.select('.d')[0].text\n",
    "# print(month_main)"
   ]
  },
  {
   "cell_type": "code",
   "execution_count": 123,
   "metadata": {},
   "outputs": [],
   "source": [
    "# cast_entries = month_main.select('.sostav.inf_block')[0].find_all('div')[1:][0].contents\n",
    "# cast_entries[:] = [value for value in cast_entries if value != '<br/>']\n",
    "# cast_entries\n",
    "# for item in month_main.select('.sostav.inf_block')[0].find_all('div')[1:][0]:\n",
    "# from itertools import tee, izip\n",
    "\n",
    "cast_table = month_main.select('.sostav.inf_block')[0].find_all('div')[1:][0].contents\n",
    "cast_table = [row for row in cast_table if row.name != 'br']\n",
    "\n",
    "artists = []\n",
    "roles = []\n",
    "\n",
    "for item in cast_table:\n",
    "    if cast_table.index(item) % 2 != 0:\n",
    "        roles.append(item)\n",
    "    else:\n",
    "        artists.append(item)\n",
    "        \n",
    "roles = [ x.text for x in roles ]        \n"
   ]
  },
  {
   "cell_type": "code",
   "execution_count": 126,
   "metadata": {},
   "outputs": [
    {
     "data": {
      "text/plain": [
       "['Count Almaviva', 'Countess Almaviva', 'Figaro', 'Susanna', 'Cherubino']"
      ]
     },
     "execution_count": 126,
     "metadata": {},
     "output_type": "execute_result"
    }
   ],
   "source": [
    "\n",
    "artists = [ x.replace(' – ', '').strip() for x in artists ]\n",
    "artists"
   ]
  },
  {
   "cell_type": "code",
   "execution_count": null,
   "metadata": {},
   "outputs": [],
   "source": []
  }
 ],
 "metadata": {
  "kernelspec": {
   "display_name": "Python 3",
   "language": "python",
   "name": "python3"
  },
  "language_info": {
   "codemirror_mode": {
    "name": "ipython",
    "version": 3
   },
   "file_extension": ".py",
   "mimetype": "text/x-python",
   "name": "python",
   "nbconvert_exporter": "python",
   "pygments_lexer": "ipython3",
   "version": "3.6.2"
  }
 },
 "nbformat": 4,
 "nbformat_minor": 2
}
