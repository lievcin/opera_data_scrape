{
 "cells": [
  {
   "cell_type": "code",
   "execution_count": 63,
   "metadata": {},
   "outputs": [
    {
     "data": {
      "text/plain": [
       "['20180301.jpg',\n",
       " '20180302.jpg',\n",
       " '20180303.jpg',\n",
       " '20180304.jpg',\n",
       " '20180305.jpg',\n",
       " '20180306.jpg',\n",
       " '20180307.jpg',\n",
       " '20180308.jpg',\n",
       " '20180309.jpg',\n",
       " '20180310.jpg',\n",
       " '20180311.jpg',\n",
       " '20180312.jpg']"
      ]
     },
     "execution_count": 63,
     "metadata": {},
     "output_type": "execute_result"
    }
   ],
   "source": [
    "import os\n",
    "root_dir = \"/Users/lievgarcia/Desktop/opera\"\n",
    "files = os.listdir(root_dir)\n",
    "\n",
    "def flatten(lst):\n",
    "    for el in lst:\n",
    "        if isinstance(el, list):\n",
    "            yield from el\n",
    "        else:\n",
    "            yield el \n",
    "            \n",
    "files"
   ]
  },
  {
   "cell_type": "code",
   "execution_count": 73,
   "metadata": {},
   "outputs": [
    {
     "name": "stdout",
     "output_type": "stream",
     "text": [
      "/Users/lievgarcia/Desktop/opera/20180301.jpg\n",
      "/Users/lievgarcia/Desktop/opera/20180302.jpg\n",
      "/Users/lievgarcia/Desktop/opera/20180303.jpg\n",
      "/Users/lievgarcia/Desktop/opera/20180304.jpg\n",
      "/Users/lievgarcia/Desktop/opera/20180305.jpg\n",
      "/Users/lievgarcia/Desktop/opera/20180306.jpg\n",
      "/Users/lievgarcia/Desktop/opera/20180307.jpg\n",
      "/Users/lievgarcia/Desktop/opera/20180308.jpg\n",
      "/Users/lievgarcia/Desktop/opera/20180309.jpg\n",
      "/Users/lievgarcia/Desktop/opera/20180310.jpg\n",
      "/Users/lievgarcia/Desktop/opera/20180311.jpg\n",
      "/Users/lievgarcia/Desktop/opera/20180312.jpg\n"
     ]
    }
   ],
   "source": [
    "import textract\n",
    "\n",
    "performances = []\n",
    "\n",
    "for file in files:\n",
    "    print(root_dir + '/' + file)\n",
    "    file_text = None\n",
    "    file_text = textract.process(root_dir + '/' + file)\n",
    "    file_text = file_text.decode(\"utf-8\")\n",
    "    file_text = file_text.split('\\n')\n",
    "    performances.append(file_text)\n",
    "\n",
    "performances = list(flatten(performances)) \n",
    "performances = [p for p in performances if len(p) > 0]"
   ]
  },
  {
   "cell_type": "code",
   "execution_count": 75,
   "metadata": {},
   "outputs": [],
   "source": [
    "import re \n",
    "import pandas as pd\n",
    "\n",
    "perf = pd.DataFrame(performances)\n",
    "perf.to_csv('perf_processed.csv')"
   ]
  },
  {
   "cell_type": "code",
   "execution_count": 74,
   "metadata": {
    "scrolled": true
   },
   "outputs": [],
   "source": [
    "# dddd = textract.process(root_dir + '/' + '20180302.jpg')\n",
    "# file_text = dddd.decode(\"utf-8\")\n",
    "# file_text = text.split('\\n')\n",
    "# file_text"
   ]
  },
  {
   "cell_type": "code",
   "execution_count": null,
   "metadata": {},
   "outputs": [],
   "source": []
  }
 ],
 "metadata": {
  "kernelspec": {
   "display_name": "Python 3",
   "language": "python",
   "name": "python3"
  },
  "language_info": {
   "codemirror_mode": {
    "name": "ipython",
    "version": 3
   },
   "file_extension": ".py",
   "mimetype": "text/x-python",
   "name": "python",
   "nbconvert_exporter": "python",
   "pygments_lexer": "ipython3",
   "version": "3.6.2"
  }
 },
 "nbformat": 4,
 "nbformat_minor": 2
}
